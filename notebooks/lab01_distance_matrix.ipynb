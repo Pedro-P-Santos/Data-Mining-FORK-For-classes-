{
 "cells": [
  {
   "cell_type": "markdown",
   "metadata": {},
   "source": [
    "# Jupyter Notebook\n",
    "Try it out below."
   ]
  },
  {
   "cell_type": "markdown",
   "metadata": {},
   "source": [
    "Test"
   ]
  },
  {
   "cell_type": "code",
   "execution_count": null,
   "metadata": {},
   "outputs": [],
   "source": [
    "# This is a code cell. Try to write some code here!\n"
   ]
  },
  {
   "cell_type": "markdown",
   "metadata": {},
   "source": [
    "This is a markdown cell. Try to write some text here!"
   ]
  },
  {
   "cell_type": "markdown",
   "metadata": {},
   "source": [
    "# Distance Matrix"
   ]
  },
  {
   "cell_type": "markdown",
   "metadata": {},
   "source": [
    "### Distance Metrics\n",
    "\n",
    "#### 1. Euclidean Distance\n",
    "\n",
    "The Euclidean distance between two points \\( x \\) and \\( y \\) in \\( n \\)-dimensional space is given by:\n",
    "\n",
    "$$ \n",
    "d(x, y) = \\sqrt{\\sum_{i=1}^{n} (x_i - y_i)^2} \n",
    "$$\n",
    "\n",
    "#### 2. Manhattan Distance (L1 Distance)\n",
    "The Manhattan distance between two points \\( x \\) and \\( y \\) is defined as:\n",
    "\n",
    "$$ \n",
    "d(x, y) = \\sum_{i=1}^{n} |x_i - y_i| \n",
    "$$\n",
    "\n",
    "\n",
    "#### There are other ways to measure distances / dissimilarities !!\n",
    "\n",
    "We will mostly be dealing with the Euclidean distance.\n",
    "\n",
    "---\n",
    "\n",
    "References: \n",
    "\n",
    "**Data Mining Concepts and Techniques[^1].**\n",
    "\n",
    "Section 2.4 Measuring Data Similarity and Dissimilarity\n",
    "\n",
    "\n",
    "**Data Mining: The Textbook[^2].**\n",
    "\n",
    "Chapter 3: Similarity and Distances\n",
    "\n",
    "---\n",
    "\n",
    "[^1]: Han, J., Kamber, M. & Pei, J. (2012). Data mining concepts and techniques, third edition Morgan Kaufmann Publishers\n",
    "\n",
    "[^2]: Aggarwal, C. C. (2015). Data Mining - The Textbook. Springer. ISBN: 978-3-319-14142-8"
   ]
  },
  {
   "cell_type": "code",
   "execution_count": null,
   "metadata": {},
   "outputs": [],
   "source": []
  },
  {
   "cell_type": "markdown",
   "metadata": {},
   "source": [
    "### Data\n",
    "\n",
    "Let's get some example data"
   ]
  },
  {
   "cell_type": "code",
   "execution_count": null,
   "metadata": {},
   "outputs": [],
   "source": []
  },
  {
   "cell_type": "code",
   "execution_count": null,
   "metadata": {},
   "outputs": [],
   "source": [
    "# imports\n",
    "import numpy as np\n",
    "import pandas as pd"
   ]
  },
  {
   "cell_type": "code",
   "execution_count": null,
   "metadata": {},
   "outputs": [],
   "source": [
    "data = np.array([[1, 2], [3, 4], [5, 6], [7, 8]])\n",
    "df = pd.DataFrame(data, columns=['Feature 1', 'Feature 2'], index=['P1','P2','P3','P4'])\n",
    "df\n"
   ]
  },
  {
   "cell_type": "code",
   "execution_count": null,
   "metadata": {},
   "outputs": [],
   "source": [
    "## Distance between P1, P1\n",
    "\n",
    "d_1_1 = 0 # Calculate"
   ]
  },
  {
   "cell_type": "code",
   "execution_count": null,
   "metadata": {},
   "outputs": [],
   "source": [
    "## Distance between P1, P2\n",
    "\n",
    "d_1_2 = 0 # Calculate\n"
   ]
  },
  {
   "cell_type": "code",
   "execution_count": null,
   "metadata": {},
   "outputs": [],
   "source": [
    "## Distance between P1, P3\n",
    "\n",
    "d_1_3 = 0 # Calculate\n"
   ]
  },
  {
   "cell_type": "code",
   "execution_count": null,
   "metadata": {},
   "outputs": [],
   "source": [
    "## Distance between P1, P4\n",
    "\n",
    "d_1_4 = 0 # Calculate\n"
   ]
  },
  {
   "cell_type": "code",
   "execution_count": null,
   "metadata": {},
   "outputs": [],
   "source": [
    "###########################\n",
    "\n",
    "## Surely there's a better way?\n",
    "\n",
    "###########################\n",
    "## Distance between P2, P1\n",
    "## Distance between P2, P2\n",
    "## Distance between P2, P3\n",
    "## Distance between P2, P4\n",
    "###########################\n",
    "## Distance between P3, P1\n",
    "## Distance between P3, P2\n",
    "## Distance between P3, P3\n",
    "## Distance between P3, P4\n",
    "###########################\n",
    "## Distance between P4, P1\n",
    "## Distance between P4, P2\n",
    "## Distance between P4, P3\n",
    "## Distance between P4, P4\n",
    "###########################\n"
   ]
  },
  {
   "cell_type": "markdown",
   "metadata": {},
   "source": [
    "### Iris Dataset\n",
    "\n",
    "Let's get some (better) data"
   ]
  },
  {
   "cell_type": "code",
   "execution_count": null,
   "metadata": {},
   "outputs": [],
   "source": [
    "# imports\n",
    "from sklearn import datasets"
   ]
  },
  {
   "cell_type": "code",
   "execution_count": null,
   "metadata": {},
   "outputs": [],
   "source": [
    "# abstract\n",
    "dataset = datasets.load_iris()"
   ]
  },
  {
   "cell_type": "code",
   "execution_count": null,
   "metadata": {},
   "outputs": [],
   "source": [
    "# dictionary\n",
    "dataset.keys()"
   ]
  },
  {
   "cell_type": "code",
   "execution_count": null,
   "metadata": {},
   "outputs": [],
   "source": [
    "dataset[\"feature_names\"]"
   ]
  },
  {
   "cell_type": "markdown",
   "metadata": {},
   "source": [
    "We are using the Iris Flower Dataset.\n",
    "\n",
    "\n",
    "https://en.wikipedia.org/wiki/Iris_flower_data_set\n",
    "\n",
    "![Iris Flower](https://raw.githubusercontent.com/fpontejos/Data-Mining-24-25/main/figures/img/iris.png)"
   ]
  },
  {
   "cell_type": "code",
   "execution_count": null,
   "metadata": {
    "scrolled": true
   },
   "outputs": [],
   "source": [
    "data = dataset[\"data\"]\n",
    "data  # data is a numpy array data structure. Think of it as a matrix of data (or as an excel spreadsheet)"
   ]
  },
  {
   "cell_type": "code",
   "execution_count": null,
   "metadata": {},
   "outputs": [],
   "source": [
    "data.shape"
   ]
  },
  {
   "cell_type": "code",
   "execution_count": null,
   "metadata": {},
   "outputs": [],
   "source": [
    "# euclidean distance of 2 observations\n",
    "# CODE HERE"
   ]
  },
  {
   "cell_type": "code",
   "execution_count": null,
   "metadata": {},
   "outputs": [],
   "source": [
    "# initialize distance matrix. What will be its final shape?\n",
    "dist = []"
   ]
  },
  {
   "cell_type": "code",
   "execution_count": null,
   "metadata": {},
   "outputs": [],
   "source": [
    "# Build the distance matrix. Use 2 for loops, the append list method and the euclidean distance formula\n",
    "# CODE HERE"
   ]
  },
  {
   "cell_type": "code",
   "execution_count": null,
   "metadata": {},
   "outputs": [],
   "source": [
    "dist"
   ]
  },
  {
   "cell_type": "code",
   "execution_count": null,
   "metadata": {},
   "outputs": [],
   "source": [
    "# another import (usually all imports are done at the top of the script/ notebook)\n",
    "import seaborn as sns"
   ]
  },
  {
   "cell_type": "code",
   "execution_count": null,
   "metadata": {},
   "outputs": [],
   "source": [
    "sns.heatmap(dist)"
   ]
  },
  {
   "cell_type": "markdown",
   "metadata": {},
   "source": [
    "## Why do we care about distances?\n",
    "\n",
    "> In data mining applications, such as clustering, outlier analysis, and nearest-neighbor\n",
    "classification, we need ways to assess how alike or unalike objects are in comparison to\n",
    "one another. For example, a store may want to search for clusters of customer objects,\n",
    "resulting in groups of customers with similar characteristics (e.g., similar income, area\n",
    "of residence, and age). Such information can then be used for marketing. A cluster is\n",
    "a collection of data objects such that the objects within a cluster are similar to one\n",
    "another and dissimilar to the objects in other clusters.\n",
    "> \n",
    "> (Han, 2011, p.65-66)\n",
    "\n",
    "\n",
    "\n",
    "---\n",
    "\n",
    "Han, J., Kamber, M., & Pei, J. (2011). *Data Mining: Concepts and Techniques*. Elsevier."
   ]
  },
  {
   "cell_type": "code",
   "execution_count": null,
   "metadata": {},
   "outputs": [],
   "source": []
  }
 ],
 "metadata": {
  "kernelspec": {
   "display_name": "Python 3 (ipykernel)",
   "language": "python",
   "name": "python3"
  },
  "language_info": {
   "codemirror_mode": {
    "name": "ipython",
    "version": 3
   },
   "file_extension": ".py",
   "mimetype": "text/x-python",
   "name": "python",
   "nbconvert_exporter": "python",
   "pygments_lexer": "ipython3",
   "version": "3.12.4"
  },
  "widgets": {
   "application/vnd.jupyter.widget-state+json": {
    "state": {},
    "version_major": 2,
    "version_minor": 0
   }
  }
 },
 "nbformat": 4,
 "nbformat_minor": 4
}
